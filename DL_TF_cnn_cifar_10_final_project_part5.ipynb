{
  "cells": [
    {
      "cell_type": "markdown",
      "metadata": {
        "id": "X2-9QpLwRlu4"
      },
      "source": [
        "# ADTA 5550: CNN on CIFAR-10: Final Project"
      ]
    },
    {
      "cell_type": "markdown",
      "metadata": {
        "id": "rydzfznhRlu9"
      },
      "source": [
        "## Set Path for Data Folder"
      ]
    },
    {
      "cell_type": "code",
      "execution_count": null,
      "metadata": {
        "id": "Vfd1HVlcRlu-"
      },
      "outputs": [],
      "source": [
        " # Put file path as a string here\n",
        "\n",
        "CIFAR_DIR = '/home/missgouthami/JPTR_NTBK/CIFAR_10_DATA/'"
      ]
    },
    {
      "cell_type": "code",
      "execution_count": null,
      "metadata": {
        "id": "0qYXPGrsRlvB",
        "outputId": "a177f526-eb30-467e-a434-e050c6ea2ab9"
      },
      "outputs": [
        {
          "data": {
            "text/plain": [
              "'/home/missgouthami/JPTR_NTBK/CIFAR_10_DATA'"
            ]
          },
          "execution_count": 2,
          "metadata": {},
          "output_type": "execute_result"
        }
      ],
      "source": [
        "pwd\n"
      ]
    },
    {
      "cell_type": "markdown",
      "metadata": {
        "id": "vLU7OFTnRlvC"
      },
      "source": [
        "## Load Data"
      ]
    },
    {
      "cell_type": "code",
      "execution_count": null,
      "metadata": {
        "id": "D2BEOPG5RlvC"
      },
      "outputs": [],
      "source": [
        "def unpickle(file):\n",
        "    import pickle\n",
        "    with open(file, 'rb') as fo:\n",
        "        cifar_dict = pickle.load(fo, encoding='bytes')\n",
        "    return cifar_dict"
      ]
    },
    {
      "cell_type": "code",
      "execution_count": null,
      "metadata": {
        "id": "NqK5inUFRlvD"
      },
      "outputs": [],
      "source": [
        "dirs = ['batches.meta','data_batch_1','data_batch_2','data_batch_3','data_batch_4','data_batch_5_(1)','test_batch']\n",
        "\n",
        "all_data = [0,1,2,3,4,5,6]\n",
        "\n",
        "for i,direc in zip(all_data,dirs):\n",
        "    all_data[i] = unpickle(CIFAR_DIR+direc)"
      ]
    },
    {
      "cell_type": "code",
      "execution_count": null,
      "metadata": {
        "id": "6OVMmm_cRlvE"
      },
      "outputs": [],
      "source": [
        "batch_meta = all_data[0]\n",
        "data_batch1 = all_data[1]\n",
        "data_batch2 = all_data[2]\n",
        "data_batch3 = all_data[3]\n",
        "data_batch4 = all_data[4]\n",
        "data_batch5 = all_data[5]\n",
        "test_batch = all_data[6]"
      ]
    },
    {
      "cell_type": "code",
      "execution_count": null,
      "metadata": {
        "id": "7v2E7A36RlvF",
        "outputId": "5fedf12a-d19e-4085-af03-735762bc8262"
      },
      "outputs": [
        {
          "data": {
            "text/plain": [
              "{b'num_cases_per_batch': 10000,\n",
              " b'label_names': [b'airplane',\n",
              "  b'automobile',\n",
              "  b'bird',\n",
              "  b'cat',\n",
              "  b'deer',\n",
              "  b'dog',\n",
              "  b'frog',\n",
              "  b'horse',\n",
              "  b'ship',\n",
              "  b'truck'],\n",
              " b'num_vis': 3072}"
            ]
          },
          "execution_count": 6,
          "metadata": {},
          "output_type": "execute_result"
        }
      ],
      "source": [
        "batch_meta"
      ]
    },
    {
      "cell_type": "code",
      "execution_count": null,
      "metadata": {
        "id": "zGss4_5xRlvG",
        "outputId": "f299cbc2-2ab3-4330-c639-65c95aab95d9"
      },
      "outputs": [
        {
          "data": {
            "text/plain": [
              "dict_keys([b'batch_label', b'labels', b'data', b'filenames'])"
            ]
          },
          "execution_count": 7,
          "metadata": {},
          "output_type": "execute_result"
        }
      ],
      "source": [
        "data_batch1.keys()"
      ]
    },
    {
      "cell_type": "markdown",
      "metadata": {
        "id": "mwSKwLU2RlvG"
      },
      "source": [
        "## Display several examples of single images using matplotlib "
      ]
    },
    {
      "cell_type": "code",
      "execution_count": null,
      "metadata": {
        "id": "kEogNBzcRlvH"
      },
      "outputs": [],
      "source": [
        "import matplotlib.pyplot as plt\n",
        "%matplotlib inline\n",
        "import pandas as pd\n",
        "import numpy as np"
      ]
    },
    {
      "cell_type": "code",
      "execution_count": null,
      "metadata": {
        "id": "-LnK0kFRRlvH"
      },
      "outputs": [],
      "source": [
        "X = data_batch1[b\"data\"] "
      ]
    },
    {
      "cell_type": "code",
      "execution_count": null,
      "metadata": {
        "id": "n8k6iiZWRlvI"
      },
      "outputs": [],
      "source": [
        "X = X.reshape(10000, 3, 32, 32).transpose(0,2,3,1).astype(\"uint8\")"
      ]
    },
    {
      "cell_type": "code",
      "execution_count": null,
      "metadata": {
        "id": "Mx2N5aZwRlvI",
        "outputId": "ae44592d-2e78-44dd-ad05-eca062b82e56"
      },
      "outputs": [
        {
          "data": {
            "text/plain": [
              "255"
            ]
          },
          "execution_count": 11,
          "metadata": {},
          "output_type": "execute_result"
        }
      ],
      "source": [
        "X[0].max()"
      ]
    },
    {
      "cell_type": "code",
      "execution_count": null,
      "metadata": {
        "id": "m9v5mbSBRlvI",
        "outputId": "9b0b7783-6b6f-4810-de7f-87f9d9483038"
      },
      "outputs": [
        {
          "data": {
            "text/plain": [
              "1.0"
            ]
          },
          "execution_count": 12,
          "metadata": {},
          "output_type": "execute_result"
        }
      ],
      "source": [
        "(X[0]/255).max()"
      ]
    },
    {
      "cell_type": "code",
      "execution_count": null,
      "metadata": {
        "id": "9aupJqV0RlvJ",
        "outputId": "ab359761-a93c-4a43-a8c1-d561402ad16e"
      },
      "outputs": [
        {
          "data": {
            "text/plain": [
              "<matplotlib.image.AxesImage at 0x7fdc5cf86d10>"
            ]
          },
          "execution_count": 13,
          "metadata": {},
          "output_type": "execute_result"
        },
        {
          "data": {
            "image/png": "[encoded data removed]",
            "text/plain": [
              "<Figure size 432x288 with 1 Axes>"
            ]
          },
          "metadata": {
            "needs_background": "light"
          },
          "output_type": "display_data"
        }
      ],
      "source": [
        "plt.imshow(X[0])"
      ]
    },
    {
      "cell_type": "code",
      "execution_count": null,
      "metadata": {
        "id": "8xwwjvCwRlvJ",
        "outputId": "d1c1543f-b74b-4c73-a906-ab0c6355139b"
      },
      "outputs": [
        {
          "data": {
            "text/plain": [
              "<matplotlib.image.AxesImage at 0x7fdc5ceb3b10>"
            ]
          },
          "execution_count": 14,
          "metadata": {},
          "output_type": "execute_result"
        },
        {
          "data": {
            "image/png": "[encoded data removed]",
            "text/plain": [
              "<Figure size 432x288 with 1 Axes>"
            ]
          },
          "metadata": {
            "needs_background": "light"
          },
          "output_type": "display_data"
        }
      ],
      "source": [
        "plt.imshow(X[1])"
      ]
    },
    {
      "cell_type": "code",
      "execution_count": null,
      "metadata": {
        "id": "aoOxkM9xRlvK",
        "outputId": "27874290-3e67-4e90-9575-f1b63a3b8e0b"
      },
      "outputs": [
        {
          "data": {
            "text/plain": [
              "<matplotlib.image.AxesImage at 0x7fdc5cdd1590>"
            ]
          },
          "execution_count": 15,
          "metadata": {},
          "output_type": "execute_result"
        },
        {
          "data": {
            "image/png": "[encoded data removed]",
            "text/plain": [
              "<Figure size 432x288 with 1 Axes>"
            ]
          },
          "metadata": {
            "needs_background": "light"
          },
          "output_type": "display_data"
        }
      ],
      "source": [
        "plt.imshow(X[4])"
      ]
    },
    {
      "cell_type": "markdown",
      "metadata": {
        "id": "pfImRQtoRlvK"
      },
      "source": [
        "## Supporting Functions to Rearrange Data"
      ]
    },
    {
      "cell_type": "markdown",
      "metadata": {
        "id": "6inZsiCxRlvK"
      },
      "source": [
        "### Encode Labels into One-Hot Format"
      ]
    },
    {
      "cell_type": "code",
      "execution_count": null,
      "metadata": {
        "id": "0mGdGHveRlvL"
      },
      "outputs": [],
      "source": [
        "def one_hot_encode(vec, vals=10):\n",
        "    '''\n",
        "    For use to one-hot encode the 10- possible labels\n",
        "    '''\n",
        "    n = len(vec)\n",
        "    out = np.zeros((n, vals))\n",
        "    out[range(n), vec] = 1\n",
        "    return out"
      ]
    },
    {
      "cell_type": "markdown",
      "metadata": {
        "id": "K585-py9RlvL"
      },
      "source": [
        "## Set Up Image Data: Make it Ready to be Fed into 1st Conv Layer"
      ]
    },
    {
      "cell_type": "code",
      "execution_count": null,
      "metadata": {
        "id": "X7-Rjvr_RlvL"
      },
      "outputs": [],
      "source": [
        "class CifarHelper():\n",
        "    \n",
        "    def __init__(self):\n",
        "        self.i = 0\n",
        "        \n",
        "        self.all_train_batches = [data_batch1,data_batch2,data_batch3,data_batch4,data_batch5]\n",
        "        self.test_batch = [test_batch]\n",
        "        \n",
        "        self.training_images = None\n",
        "        self.training_labels = None\n",
        "        \n",
        "        self.test_images = None\n",
        "        self.test_labels = None\n",
        "    \n",
        "    def set_up_images(self):\n",
        "        \n",
        "        print(\"Setting Up Training Images and Labels\")\n",
        "        \n",
        "        self.training_images = np.vstack([d[b\"data\"] for d in self.all_train_batches])\n",
        "        train_len = len(self.training_images)\n",
        "        \n",
        "        self.training_images = self.training_images.reshape(train_len,3,32,32).transpose(0,2,3,1)/255\n",
        "        self.training_labels = one_hot_encode(np.hstack([d[b\"labels\"] for d in self.all_train_batches]), 10)\n",
        "        \n",
        "        print(\"Setting Up Test Images and Labels\")\n",
        "        \n",
        "        self.test_images = np.vstack([d[b\"data\"] for d in self.test_batch])\n",
        "        test_len = len(self.test_images)\n",
        "        \n",
        "        self.test_images = self.test_images.reshape(test_len,3,32,32).transpose(0,2,3,1)/255\n",
        "        self.test_labels = one_hot_encode(np.hstack([d[b\"labels\"] for d in self.test_batch]), 10)\n",
        "\n",
        "        \n",
        "    def next_batch(self, batch_size):\n",
        "        x = self.training_images[self.i:self.i+batch_size].reshape(100,32,32,3)\n",
        "        y = self.training_labels[self.i:self.i+batch_size]\n",
        "        self.i = (self.i + batch_size) % len(self.training_images)\n",
        "        return x, y"
      ]
    },
    {
      "cell_type": "markdown",
      "metadata": {
        "id": "lOiXbU0KRlvM"
      },
      "source": [
        "## Set up image data: Calling CifarHelper.set_up_images()"
      ]
    },
    {
      "cell_type": "code",
      "execution_count": null,
      "metadata": {
        "id": "6zw2nz7TRlvM",
        "outputId": "a6fb33be-2942-4f81-dbe9-13dd3dc83d31"
      },
      "outputs": [
        {
          "name": "stdout",
          "output_type": "stream",
          "text": [
            "Setting Up Training Images and Labels\n",
            "Setting Up Test Images and Labels\n"
          ]
        }
      ],
      "source": [
        "# Before Your tf.Session run these two lines\n",
        "ch = CifarHelper()\n",
        "ch.set_up_images()\n",
        "\n",
        "# During your session to grab the next batch use this line\n",
        "# (Just like we did for mnist.train.next_batch)\n",
        "# batch = ch.next_batch(100)"
      ]
    },
    {
      "cell_type": "markdown",
      "metadata": {
        "id": "b07dIlfTRlvN"
      },
      "source": [
        "## Define Supporting Functions to Build, Train, and Test CNN Model"
      ]
    },
    {
      "cell_type": "code",
      "execution_count": null,
      "metadata": {
        "id": "rpRWXsKdRlvN"
      },
      "outputs": [],
      "source": [
        "# This function returns a tf.Variable used to store weights in a filter\n",
        "# This variable is initialized with values that can be used to initialize weights \n",
        "# The values are random numbers\n",
        "\n",
        "def initialize_weights(filter_shape):\n",
        "    \n",
        "    init_random_dist = tf.truncated_normal(filter_shape,stddev=0.1)\n",
        "    \n",
        "    return (tf.Variable(init_random_dist))"
      ]
    },
    {
      "cell_type": "code",
      "execution_count": null,
      "metadata": {
        "id": "kXZtiUx-RlvN"
      },
      "outputs": [],
      "source": [
        "# This function returns a tf.Variable used to store bias\n",
        "# This variable is initialized with values that can be usedto initialized bias\n",
        "# The value is initialized to 0.1\n",
        "\n",
        "def initialize_bias(bias_shape):\n",
        "    \n",
        "    initial_bias_vals = tf.constant(0.1,shape=bias_shape)\n",
        "    \n",
        "    return (tf.Variable(initial_bias_vals))"
      ]
    },
    {
      "cell_type": "markdown",
      "metadata": {
        "collapsed": true,
        "id": "JTws0CgZRlvO"
      },
      "source": [
        "### Set Up Convolution Layer and Perform Convolution Computation: Dot Product (x * W)"
      ]
    },
    {
      "cell_type": "code",
      "execution_count": null,
      "metadata": {
        "id": "rBzuczPrRlvO"
      },
      "outputs": [],
      "source": [
        "def create_convolution_layer_and_compute_dot_product (inputs, filter_shape):\n",
        "    #Initialize the weights in the filter\n",
        "    filter_initialized_with_weights = initialize_weights(filter_shape)\n",
        "    \n",
        "    #Create a Convolution Layer\n",
        "    conv_layer_outputs = tf.nn.conv2d(inputs,filter_initialized_with_weights, strides=[1,1,1,1],padding ='SAME')\n",
        "    \n",
        "    #Return the convolution layer outputs\n",
        "    return (conv_layer_outputs)"
      ]
    },
    {
      "cell_type": "markdown",
      "metadata": {
        "id": "k-uRNwK3RlvO"
      },
      "source": [
        "### Set Up Relu Layer and perform Computation: Dot Product + Bias (x.W + b)"
      ]
    },
    {
      "cell_type": "code",
      "execution_count": null,
      "metadata": {
        "id": "v5X0GRZ3RlvP"
      },
      "outputs": [],
      "source": [
        "def create_relu_layer_and_compute_dotproduct_plus_b(inputs, filter_shape):\n",
        "    \n",
        "    #Initialize bias for each input channel\n",
        "    b = initialize_bias([filter_shape[3]])\n",
        "    \n",
        "    # Perform the computation first by adding: inputs (x * W) + b\n",
        "    # Create a RelU layer associated with the preceding convolution layer\n",
        "    relu_layer_outputs = tf.nn.relu(inputs+b)\n",
        "    \n",
        "    # Return the outputs of the ReLU layer\n",
        "    return (relu_layer_outputs)"
      ]
    },
    {
      "cell_type": "code",
      "execution_count": null,
      "metadata": {
        "id": "FfuSMcWzRlvP"
      },
      "outputs": [],
      "source": [
        "def conv2d(inputs, filter_shape):\n",
        "    filter_initialized_with_weights = initialize_weights(filter_shape)\n",
        "    conv_layer_outputs = tf.nn.conv2d(inputs,filter_initialized_with_weights, strides=[1,1,1,1],padding ='SAME')\n",
        "    conv2d_output=conv_layer_outputs\n",
        "    #Adding bias to the dot product\n",
        "    b = initialize_bias([filter_shape[3]])\n",
        "    #Relu activation function\n",
        "    relu_layer_outputs = tf.nn.relu(conv2d_output+b)\n",
        "    #Max polling layer to extract features from image\n",
        "    pooling_layer_outputs = tf.nn.max_pool(relu_layer_outputs, ksize=[1,2,2,1],strides = [1,2,2,1],padding='SAME')\n",
        "    return pooling_layer_outputs"
      ]
    },
    {
      "cell_type": "markdown",
      "metadata": {
        "id": "vJABPMRgRlvP"
      },
      "source": [
        "### Set Up a Pooling Layer and Reduce Spatial Size"
      ]
    },
    {
      "cell_type": "code",
      "execution_count": null,
      "metadata": {
        "id": "OP76Idw9RlvP"
      },
      "outputs": [],
      "source": [
        "def create_max_pool(inputs):\n",
        "    \n",
        "    #Create a pooling layer\n",
        "    pooling_layer_outputs = tf.nn.max_pool(inputs, ksize=[1,2,2,1],strides = [1,2,2,1],padding='SAME')\n",
        "    \n",
        "    # Return the pooling Layer\n",
        "    return (pooling_layer_outputs)"
      ]
    },
    {
      "cell_type": "markdown",
      "metadata": {
        "id": "a5uL6kanRlvQ"
      },
      "source": [
        "### Set Up Fully Connected Layer and Perform Computation: (inputs * Weights) + Bias"
      ]
    },
    {
      "cell_type": "code",
      "execution_count": null,
      "metadata": {
        "id": "XrWxSMohRlvQ"
      },
      "outputs": [],
      "source": [
        "def create_fully_connected_layer_and_compute_dotproduct_plus_bias (inputs, output_size):\n",
        "    \n",
        "    #Get the number of input channels from the input\n",
        "    #Inputs: the outputs fro  the preceding Layer or previous operation like reshaping \n",
        "    input_size = int(inputs.get_shape()[1])\n",
        "    \n",
        "    #Initialize the weights of the filter of the FC layet\n",
        "    # Filter shape [in_channels, out_channels]\n",
        "    # Each weight for one filter cell\n",
        "    W = initialize_weights([input_size, output_size])\n",
        "    \n",
        "    #Initialize the bias: each bias one output channel\n",
        "    b = initialize_bias([output_size])\n",
        "    \n",
        "    #Perform the computation for FC layer and then add bias to get the result\n",
        "    fcbias_outputs=tf.matmul(inputs,W)+b\n",
        "    \n",
        "    # Return the results: outputs\n",
        "    return (fcbias_outputs)"
      ]
    },
    {
      "cell_type": "markdown",
      "metadata": {
        "id": "ddXOPqGfRlvQ"
      },
      "source": [
        "# PHASE I: Build Convolutional Neural Network"
      ]
    },
    {
      "cell_type": "code",
      "execution_count": null,
      "metadata": {
        "id": "yvpidbaURlvQ"
      },
      "outputs": [],
      "source": [
        "import tensorflow as tf"
      ]
    },
    {
      "cell_type": "markdown",
      "metadata": {
        "id": "Q7iOE_JTRlvR"
      },
      "source": [
        "## Create Placeholders for Inputs and Labels: x and y_true"
      ]
    },
    {
      "cell_type": "code",
      "execution_count": null,
      "metadata": {
        "id": "oYwITHNCRlvR",
        "outputId": "61def0ae-9a2d-413b-c6c4-937837cbd4b8"
      },
      "outputs": [
        {
          "name": "stdout",
          "output_type": "stream",
          "text": [
            "WARNING:tensorflow:From /tmp/ipykernel_8610/3140936945.py:7: The name tf.placeholder is deprecated. Please use tf.compat.v1.placeholder instead.\n",
            "\n"
          ]
        }
      ],
      "source": [
        "# PLACEHOLDER\n",
        "\n",
        "# Create a placeholder for the inputs data: x\n",
        "# x: a 2D array\n",
        "# x: a placeholder that can hold any number of rows/record\n",
        "\n",
        "x = tf.placeholder(tf.float32, shape=[None, 32, 32, 3])"
      ]
    },
    {
      "cell_type": "code",
      "execution_count": null,
      "metadata": {
        "id": "M_gGO2TVRlvR"
      },
      "outputs": [],
      "source": [
        "# PLACEHOLDER\n",
        "\n",
        "# Create a placeholder for the labels of the inputs data: y_true\n",
        "# y_true: a 2D array\n",
        "# y_true: Can hold any number of rows/records\n",
        "\n",
        "y_true = tf.placeholder(tf.float32, [None, 10])"
      ]
    },
    {
      "cell_type": "markdown",
      "metadata": {
        "id": "4FPo4oIPRlvS"
      },
      "source": [
        "## Reshape the Input Placeholder x: NOT NEED TO RESHAPE DATA HERE"
      ]
    },
    {
      "cell_type": "code",
      "execution_count": null,
      "metadata": {
        "id": "cYy5zVhnRlvS"
      },
      "outputs": [],
      "source": [
        "# DO NOTHING -- DON'T NEED TO RESHAPE - DATA IS ALREADY IN GOOD SHAPE TO BE FED INTO 1ST CONVOLUTION LAYER"
      ]
    },
    {
      "cell_type": "markdown",
      "metadata": {
        "id": "rwgTTHPhRlvS"
      },
      "source": [
        "## Create 1st Convolution Layer and so on ............."
      ]
    },
    {
      "cell_type": "code",
      "execution_count": null,
      "metadata": {
        "id": "OKMETHtjRlvS",
        "outputId": "6de4c92e-3f57-4932-9b18-e92b185bf09a"
      },
      "outputs": [
        {
          "name": "stdout",
          "output_type": "stream",
          "text": [
            "WARNING:tensorflow:From /tmp/ipykernel_8610/3414433815.py:7: The name tf.truncated_normal is deprecated. Please use tf.random.truncated_normal instead.\n",
            "\n"
          ]
        }
      ],
      "source": [
        "#Create a first convolution layer\n",
        "conv_layer1=create_convolution_layer_and_compute_dot_product(x,filter_shape=[2,2,3,32])"
      ]
    },
    {
      "cell_type": "code",
      "execution_count": null,
      "metadata": {
        "id": "aNpCrXUoRlvT"
      },
      "outputs": [],
      "source": [
        "#Create the ReLU layer for the 1st convolution layer\n",
        "# Accept the outputs from the 1st conv layer as the inputs\n",
        "# Perform the computation at the layer and rfeturn the output to the layer\n",
        "conv_relu_layer1=create_relu_layer_and_compute_dotproduct_plus_b(conv_layer1,filter_shape=[2,2,3,32])"
      ]
    },
    {
      "cell_type": "markdown",
      "metadata": {
        "collapsed": true,
        "id": "Lm0C71erRlvT"
      },
      "source": [
        "### Create 1st pooling layer and reduce spatial size"
      ]
    },
    {
      "cell_type": "code",
      "execution_count": null,
      "metadata": {
        "id": "g6qqynenRlvT",
        "outputId": "db186a1c-91fc-4317-a572-933b3353aa20"
      },
      "outputs": [
        {
          "name": "stdout",
          "output_type": "stream",
          "text": [
            "WARNING:tensorflow:From /tmp/ipykernel_8610/3467863939.py:4: The name tf.nn.max_pool is deprecated. Please use tf.nn.max_pool2d instead.\n",
            "\n"
          ]
        }
      ],
      "source": [
        "pooling_layer1 = create_max_pool(conv_relu_layer1)"
      ]
    },
    {
      "cell_type": "markdown",
      "metadata": {
        "id": "yFT0_iGPRlvT"
      },
      "source": [
        "### Create 2nd convolution Layer, RelU Layer and perform computation: x*W + b"
      ]
    },
    {
      "cell_type": "code",
      "execution_count": null,
      "metadata": {
        "id": "-d3qeimHRlvU"
      },
      "outputs": [],
      "source": [
        "# Create a 2nd convolutional layer\n",
        "conv_layer2=create_convolution_layer_and_compute_dot_product(pooling_layer1,filter_shape=[2,2,32,64])"
      ]
    },
    {
      "cell_type": "code",
      "execution_count": null,
      "metadata": {
        "id": "VUeVhuiQRlvU"
      },
      "outputs": [],
      "source": [
        "# Create the ReLU layer for the 2nd convolution layer\n",
        "conv_relu_layer2=create_relu_layer_and_compute_dotproduct_plus_b(conv_layer2,filter_shape=[2,2,32,64])"
      ]
    },
    {
      "cell_type": "markdown",
      "metadata": {
        "id": "s42_J8L7RlvU"
      },
      "source": [
        "### Create 2nd Pooling layer and Reduce Spatial size"
      ]
    },
    {
      "cell_type": "code",
      "execution_count": null,
      "metadata": {
        "id": "ImP_odgyRlvU"
      },
      "outputs": [],
      "source": [
        "pooling_layer2 = create_max_pool(conv_relu_layer2)"
      ]
    },
    {
      "cell_type": "markdown",
      "metadata": {
        "id": "CBJ8prDjRlvV"
      },
      "source": [
        "### Create 3rd convolution Layer, RelU Layer"
      ]
    },
    {
      "cell_type": "code",
      "execution_count": null,
      "metadata": {
        "id": "9qmGp5k3RlvV"
      },
      "outputs": [],
      "source": [
        "conv_layer3=create_convolution_layer_and_compute_dot_product(pooling_layer2,filter_shape=[2,2,64,128])"
      ]
    },
    {
      "cell_type": "code",
      "execution_count": null,
      "metadata": {
        "id": "fus3RKwURlvV"
      },
      "outputs": [],
      "source": [
        "conv_relu_layer3=create_relu_layer_and_compute_dotproduct_plus_b(conv_layer3,filter_shape=[2,2,64,128])"
      ]
    },
    {
      "cell_type": "code",
      "execution_count": null,
      "metadata": {
        "id": "nAglY1YwRlvW"
      },
      "outputs": [],
      "source": [
        "pooling_layer3 = create_max_pool(conv_relu_layer3)"
      ]
    },
    {
      "cell_type": "markdown",
      "metadata": {
        "id": "_f-Pq6NnRlvW"
      },
      "source": [
        "### Reshape/Flatten Data Making It Ready to be Fed into 1st FC layer"
      ]
    },
    {
      "cell_type": "code",
      "execution_count": null,
      "metadata": {
        "id": "gnecTkRERlvX"
      },
      "outputs": [],
      "source": [
        "# Reshape and flatten the output of the 2nd pooling layer\n",
        "# Prepare to feed the output data into the 1st fully connected layer\n",
        "\n",
        "poolig_layer2_flatten = tf.reshape(pooling_layer3, [-1,4*4*128])"
      ]
    },
    {
      "cell_type": "markdown",
      "metadata": {
        "id": "YODoDC3xRlvX"
      },
      "source": [
        "### create 1st FC Layer, ReLU layer, and Output Data to Dropout Layer"
      ]
    },
    {
      "cell_type": "code",
      "execution_count": null,
      "metadata": {
        "id": "qKKiP-4kRlvX"
      },
      "outputs": [],
      "source": [
        "# First, Create the FC (fully connected) layer\n",
        "fc_layer_1_outputs = create_fully_connected_layer_and_compute_dotproduct_plus_bias(poolig_layer2_flatten, output_size=1024)"
      ]
    },
    {
      "cell_type": "code",
      "execution_count": null,
      "metadata": {
        "id": "Kl4_-_KGRlvY"
      },
      "outputs": [],
      "source": [
        "# Create the ReLU layer of the 1st FC layer\n",
        "fc_relu_layer_1_outputs = tf.nn.relu(fc_layer_1_outputs)"
      ]
    },
    {
      "cell_type": "markdown",
      "metadata": {
        "id": "6_vhY2BfRlvY"
      },
      "source": [
        "### Create Dropout Layer and Dropout a Fractiom of Output Randomly"
      ]
    },
    {
      "cell_type": "code",
      "execution_count": null,
      "metadata": {
        "id": "nR_HVarFRlvY",
        "outputId": "739064b2-6387-4ed4-d8f2-baff81d3c6ac"
      },
      "outputs": [
        {
          "name": "stdout",
          "output_type": "stream",
          "text": [
            "WARNING:tensorflow:From /tmp/ipykernel_8610/1686363664.py:2: calling dropout (from tensorflow.python.ops.nn_ops) with keep_prob is deprecated and will be removed in a future version.\n",
            "Instructions for updating:\n",
            "Please use `rate` instead of `keep_prob`. Rate should be set to `rate = 1 - keep_prob`.\n"
          ]
        }
      ],
      "source": [
        "dropout_hold_prob = tf.placeholder(tf.float32)\n",
        "dropout_outputs = tf.nn.dropout(fc_relu_layer_1_outputs, keep_prob=dropout_hold_prob)"
      ]
    },
    {
      "cell_type": "markdown",
      "metadata": {
        "id": "nK3X5AQdRlvZ"
      },
      "source": [
        "### Create final FC layer, compute (x.W+b), and Produce final outputs"
      ]
    },
    {
      "cell_type": "code",
      "execution_count": null,
      "metadata": {
        "id": "51HjwIyiRlvZ"
      },
      "outputs": [],
      "source": [
        "y_pred = create_fully_connected_layer_and_compute_dotproduct_plus_bias(dropout_outputs,output_size=10)"
      ]
    },
    {
      "cell_type": "markdown",
      "metadata": {
        "id": "TaSZpYoKRlvZ"
      },
      "source": [
        "### Define Loss Function and Calculate softmax cross entropy loss"
      ]
    },
    {
      "cell_type": "code",
      "execution_count": null,
      "metadata": {
        "id": "i_hBHDGORlva"
      },
      "outputs": [],
      "source": [
        "softmax_cross_entropy_loss = tf.nn.softmax_cross_entropy_with_logits_v2(labels=y_true,logits=y_pred)\n",
        "cross_entropy_mean = tf.reduce_mean(softmax_cross_entropy_loss)"
      ]
    },
    {
      "cell_type": "markdown",
      "metadata": {
        "id": "aUHU29CYRlva"
      },
      "source": [
        "## Create an Optimizer to optimize CNN Model and set learning rate"
      ]
    },
    {
      "cell_type": "code",
      "execution_count": null,
      "metadata": {
        "id": "YCA0sqASRlva",
        "outputId": "6f558330-a00d-4b0e-f2fb-4da668043870"
      },
      "outputs": [
        {
          "name": "stdout",
          "output_type": "stream",
          "text": [
            "WARNING:tensorflow:From /tmp/ipykernel_8610/252171548.py:2: The name tf.train.AdamOptimizer is deprecated. Please use tf.compat.v1.train.AdamOptimizer instead.\n",
            "\n"
          ]
        }
      ],
      "source": [
        "# Get an ADAM optimizer\n",
        "optimizer = tf.train.AdamOptimizer(learning_rate=0.001)"
      ]
    },
    {
      "cell_type": "code",
      "execution_count": null,
      "metadata": {
        "id": "s9IRjtJfRlvb"
      },
      "outputs": [],
      "source": [
        "### Create a trainer to traning CNN Model"
      ]
    },
    {
      "cell_type": "code",
      "execution_count": null,
      "metadata": {
        "id": "1xh7qG_aRlvb"
      },
      "outputs": [],
      "source": [
        "#Create a CNN model trainer that can train the model\n",
        "# And optmize the model by minimizing the softmax cross_entropy loss\n",
        "\n",
        "cnn_trainer=optimizer.minimize(cross_entropy_mean)"
      ]
    },
    {
      "cell_type": "code",
      "execution_count": null,
      "metadata": {
        "id": "lgUVhzDERlvb"
      },
      "outputs": [],
      "source": [
        "### Train and Test CNN Deep learning model "
      ]
    },
    {
      "cell_type": "code",
      "execution_count": null,
      "metadata": {
        "id": "_dZR1STfRlvb"
      },
      "outputs": [],
      "source": [
        "### Create a variable initializer to Initialize all variables"
      ]
    },
    {
      "cell_type": "code",
      "execution_count": null,
      "metadata": {
        "id": "7LW263vGRlvc",
        "outputId": "dbecf6d2-34fd-49d2-a9b8-ff9aad4dd393"
      },
      "outputs": [
        {
          "name": "stdout",
          "output_type": "stream",
          "text": [
            "WARNING:tensorflow:From /tmp/ipykernel_8610/2444434795.py:1: The name tf.global_variables_initializer is deprecated. Please use tf.compat.v1.global_variables_initializer instead.\n",
            "\n"
          ]
        }
      ],
      "source": [
        "vars_initializer = tf.global_variables_initializer()\n",
        "steps=5000"
      ]
    },
    {
      "cell_type": "code",
      "execution_count": null,
      "metadata": {
        "id": "hR1v9gLARlvc"
      },
      "outputs": [],
      "source": [
        "### Run tf.Sessions() to Train and Test Deep Learning CNN Model"
      ]
    },
    {
      "cell_type": "code",
      "execution_count": null,
      "metadata": {
        "id": "sw1QC-dbRlvc",
        "outputId": "8defaf74-e1e0-4ebd-b3db-16c453f53c44"
      },
      "outputs": [
        {
          "name": "stdout",
          "output_type": "stream",
          "text": [
            "WARNING:tensorflow:From /tmp/ipykernel_8610/225488853.py:1: The name tf.Session is deprecated. Please use tf.compat.v1.Session instead.\n",
            "\n"
          ]
        },
        {
          "name": "stderr",
          "output_type": "stream",
          "text": [
            "\n",
            "User settings:\n",
            "\n",
            "   KMP_AFFINITY=granularity=fine,verbose,compact,1,0\n",
            "   KMP_BLOCKTIME=0\n",
            "   KMP_SETTINGS=1\n",
            "   OMP_NUM_THREADS=8\n",
            "\n",
            "Effective settings:\n",
            "\n",
            "   KMP_ABORT_DELAY=0\n",
            "   KMP_ADAPTIVE_LOCK_PROPS='1,1024'\n",
            "   KMP_ALIGN_ALLOC=64\n",
            "   KMP_ALL_THREADPRIVATE=128\n",
            "   KMP_ATOMIC_MODE=2\n",
            "   KMP_BLOCKTIME=0\n",
            "   KMP_CPUINFO_FILE: value is not defined\n",
            "   KMP_DETERMINISTIC_REDUCTION=false\n",
            "   KMP_DEVICE_THREAD_LIMIT=2147483647\n",
            "   KMP_DISP_HAND_THREAD=false\n",
            "   KMP_DISP_NUM_BUFFERS=7\n",
            "   KMP_DUPLICATE_LIB_OK=false\n",
            "   KMP_FORCE_REDUCTION: value is not defined\n",
            "   KMP_FOREIGN_THREADS_THREADPRIVATE=true\n",
            "   KMP_FORKJOIN_BARRIER='2,2'\n",
            "   KMP_FORKJOIN_BARRIER_PATTERN='hyper,hyper'\n",
            "   KMP_FORKJOIN_FRAMES=true\n",
            "   KMP_FORKJOIN_FRAMES_MODE=3\n",
            "   KMP_GTID_MODE=3\n",
            "   KMP_HANDLE_SIGNALS=false\n",
            "   KMP_HOT_TEAMS_MAX_LEVEL=1\n",
            "   KMP_HOT_TEAMS_MODE=0\n",
            "   KMP_INIT_AT_FORK=true\n",
            "   KMP_ITT_PREPARE_DELAY=0\n",
            "   KMP_LIBRARY=throughput\n",
            "   KMP_LOCK_KIND=queuing\n",
            "   KMP_MALLOC_POOL_INCR=1M\n",
            "   KMP_MWAIT_HINTS=0\n",
            "   KMP_NUM_LOCKS_IN_BLOCK=1\n",
            "   KMP_PLAIN_BARRIER='2,2'\n",
            "   KMP_PLAIN_BARRIER_PATTERN='hyper,hyper'\n",
            "   KMP_REDUCTION_BARRIER='1,1'\n",
            "   KMP_REDUCTION_BARRIER_PATTERN='hyper,hyper'\n",
            "   KMP_SCHEDULE='static,balanced;guided,iterative'\n",
            "   KMP_SETTINGS=true\n",
            "   KMP_SPIN_BACKOFF_PARAMS='4096,100'\n",
            "   KMP_STACKOFFSET=64\n",
            "   KMP_STACKPAD=0\n",
            "   KMP_STACKSIZE=8M\n",
            "   KMP_STORAGE_MAP=false\n",
            "   KMP_TASKING=2\n",
            "   KMP_TASKLOOP_MIN_TASKS=0\n",
            "   KMP_TASK_STEALING_CONSTRAINT=1\n",
            "   KMP_TEAMS_THREAD_LIMIT=8\n",
            "   KMP_TOPOLOGY_METHOD=all\n",
            "   KMP_USER_LEVEL_MWAIT=false\n",
            "   KMP_USE_YIELD=1\n",
            "   KMP_VERSION=false\n",
            "   KMP_WARNINGS=true\n",
            "   OMP_AFFINITY_FORMAT='OMP: pid %P tid %i thread %n bound to OS proc set {%A}'\n",
            "   OMP_ALLOCATOR=omp_default_mem_alloc\n",
            "   OMP_CANCELLATION=false\n",
            "   OMP_DEBUG=disabled\n",
            "   OMP_DEFAULT_DEVICE=0\n",
            "   OMP_DISPLAY_AFFINITY=false\n",
            "   OMP_DISPLAY_ENV=false\n",
            "   OMP_DYNAMIC=false\n",
            "   OMP_MAX_ACTIVE_LEVELS=2147483647\n",
            "   OMP_MAX_TASK_PRIORITY=0\n",
            "   OMP_NESTED=false\n",
            "   OMP_NUM_THREADS='8'\n",
            "   OMP_PLACES: value is not defined\n",
            "   OMP_PROC_BIND='intel'\n",
            "   OMP_SCHEDULE='static'\n",
            "   OMP_STACKSIZE=8M\n",
            "   OMP_TARGET_OFFLOAD=DEFAULT\n",
            "   OMP_THREAD_LIMIT=2147483647\n",
            "   OMP_TOOL=enabled\n",
            "   OMP_TOOL_LIBRARIES: value is not defined\n",
            "   OMP_WAIT_POLICY=PASSIVE\n",
            "   KMP_AFFINITY='verbose,warnings,respect,granularity=fine,compact,1,0'\n",
            "\n",
            "2022-05-08 00:01:11.515134: I tensorflow/core/platform/profile_utils/cpu_utils.cc:94] CPU Frequency: 2299995000 Hz\n",
            "2022-05-08 00:01:11.517017: I tensorflow/compiler/xla/service/service.cc:168] XLA service 0x557775b2d4c0 initialized for platform Host (this does not guarantee that XLA will be used). Devices:\n",
            "2022-05-08 00:01:11.517057: I tensorflow/compiler/xla/service/service.cc:176]   StreamExecutor device (0): Host, Default Version\n",
            "2022-05-08 00:01:11.517160: I tensorflow/core/common_runtime/process_util.cc:136] Creating new thread pool with default inter op setting: 2. Tune using inter_op_parallelism_threads for best performance.\n",
            "OMP: Info #212: KMP_AFFINITY: decoding x2APIC ids.\n",
            "OMP: Info #210: KMP_AFFINITY: Affinity capable, using global cpuid leaf 11 info\n",
            "OMP: Info #154: KMP_AFFINITY: Initial OS proc set respected: 0-7\n",
            "OMP: Info #156: KMP_AFFINITY: 8 available OS procs\n",
            "OMP: Info #157: KMP_AFFINITY: Uniform topology\n",
            "OMP: Info #179: KMP_AFFINITY: 1 packages x 4 cores/pkg x 2 threads/core (4 total cores)\n",
            "OMP: Info #214: KMP_AFFINITY: OS proc to physical thread map:\n",
            "OMP: Info #171: KMP_AFFINITY: OS proc 0 maps to package 0 core 0 thread 0 \n",
            "OMP: Info #171: KMP_AFFINITY: OS proc 4 maps to package 0 core 0 thread 1 \n",
            "OMP: Info #171: KMP_AFFINITY: OS proc 1 maps to package 0 core 1 thread 0 \n",
            "OMP: Info #171: KMP_AFFINITY: OS proc 5 maps to package 0 core 1 thread 1 \n",
            "OMP: Info #171: KMP_AFFINITY: OS proc 2 maps to package 0 core 2 thread 0 \n",
            "OMP: Info #171: KMP_AFFINITY: OS proc 6 maps to package 0 core 2 thread 1 \n",
            "OMP: Info #171: KMP_AFFINITY: OS proc 3 maps to package 0 core 3 thread 0 \n",
            "OMP: Info #171: KMP_AFFINITY: OS proc 7 maps to package 0 core 3 thread 1 \n",
            "OMP: Info #250: KMP_AFFINITY: pid 8610 tid 12690 thread 0 bound to OS proc set 0\n",
            "OMP: Info #250: KMP_AFFINITY: pid 8610 tid 12690 thread 1 bound to OS proc set 1\n",
            "OMP: Info #250: KMP_AFFINITY: pid 8610 tid 12693 thread 2 bound to OS proc set 2\n",
            "OMP: Info #250: KMP_AFFINITY: pid 8610 tid 12694 thread 3 bound to OS proc set 3\n",
            "OMP: Info #250: KMP_AFFINITY: pid 8610 tid 12695 thread 4 bound to OS proc set 4\n",
            "OMP: Info #250: KMP_AFFINITY: pid 8610 tid 12696 thread 5 bound to OS proc set 5\n",
            "OMP: Info #250: KMP_AFFINITY: pid 8610 tid 12697 thread 6 bound to OS proc set 6\n",
            "OMP: Info #250: KMP_AFFINITY: pid 8610 tid 12698 thread 7 bound to OS proc set 7\n",
            "OMP: Info #250: KMP_AFFINITY: pid 8610 tid 12699 thread 8 bound to OS proc set 0\n",
            "OMP: Info #250: KMP_AFFINITY: pid 8610 tid 12691 thread 9 bound to OS proc set 1\n",
            "OMP: Info #250: KMP_AFFINITY: pid 8610 tid 12700 thread 10 bound to OS proc set 2\n",
            "OMP: Info #250: KMP_AFFINITY: pid 8610 tid 12701 thread 11 bound to OS proc set 3\n",
            "OMP: Info #250: KMP_AFFINITY: pid 8610 tid 12702 thread 12 bound to OS proc set 4\n",
            "OMP: Info #250: KMP_AFFINITY: pid 8610 tid 12705 thread 15 bound to OS proc set 7\n",
            "OMP: Info #250: KMP_AFFINITY: pid 8610 tid 12703 thread 13 bound to OS proc set 5\n",
            "OMP: Info #250: KMP_AFFINITY: pid 8610 tid 12706 thread 16 bound to OS proc set 0\n",
            "OMP: Info #250: KMP_AFFINITY: pid 8610 tid 12704 thread 14 bound to OS proc set 6\n"
          ]
        },
        {
          "name": "stdout",
          "output_type": "stream",
          "text": [
            "ON STEP : 0  Accuracy : 0.1\n",
            "\n",
            "\n",
            "ON STEP : 100  Accuracy : 0.3603\n",
            "\n",
            "\n",
            "ON STEP : 200  Accuracy : 0.4081\n",
            "\n",
            "\n",
            "ON STEP : 300  Accuracy : 0.4678\n",
            "\n",
            "\n",
            "ON STEP : 400  Accuracy : 0.4984\n",
            "\n",
            "\n",
            "ON STEP : 500  Accuracy : 0.5198\n",
            "\n",
            "\n",
            "ON STEP : 600  Accuracy : 0.53\n",
            "\n",
            "\n",
            "ON STEP : 700  Accuracy : 0.5447\n",
            "\n",
            "\n",
            "ON STEP : 800  Accuracy : 0.5342\n",
            "\n",
            "\n",
            "ON STEP : 900  Accuracy : 0.5564\n",
            "\n",
            "\n",
            "ON STEP : 1000  Accuracy : 0.6025\n",
            "\n",
            "\n",
            "ON STEP : 1100  Accuracy : 0.6057\n",
            "\n",
            "\n",
            "ON STEP : 1200  Accuracy : 0.5818\n",
            "\n",
            "\n",
            "ON STEP : 1300  Accuracy : 0.615\n",
            "\n",
            "\n",
            "ON STEP : 1400  Accuracy : 0.6119\n",
            "\n",
            "\n",
            "ON STEP : 1500  Accuracy : 0.6396\n",
            "\n",
            "\n",
            "ON STEP : 1600  Accuracy : 0.6472\n",
            "\n",
            "\n",
            "ON STEP : 1700  Accuracy : 0.6471\n",
            "\n",
            "\n",
            "ON STEP : 1800  Accuracy : 0.643\n",
            "\n",
            "\n",
            "ON STEP : 1900  Accuracy : 0.659\n",
            "\n",
            "\n",
            "ON STEP : 2000  Accuracy : 0.666\n",
            "\n",
            "\n",
            "ON STEP : 2100  Accuracy : 0.6673\n",
            "\n",
            "\n",
            "ON STEP : 2200  Accuracy : 0.6808\n",
            "\n",
            "\n",
            "ON STEP : 2300  Accuracy : 0.6714\n",
            "\n",
            "\n",
            "ON STEP : 2400  Accuracy : 0.6669\n",
            "\n",
            "\n",
            "ON STEP : 2500  Accuracy : 0.6949\n",
            "\n",
            "\n",
            "ON STEP : 2600  Accuracy : 0.6952\n",
            "\n",
            "\n",
            "ON STEP : 2700  Accuracy : 0.7054\n",
            "\n",
            "\n",
            "ON STEP : 2800  Accuracy : 0.6922\n",
            "\n",
            "\n",
            "ON STEP : 2900  Accuracy : 0.7012\n",
            "\n",
            "\n",
            "ON STEP : 3000  Accuracy : 0.6933\n",
            "\n",
            "\n",
            "ON STEP : 3100  Accuracy : 0.7105\n",
            "\n",
            "\n",
            "ON STEP : 3200  Accuracy : 0.7148\n",
            "\n",
            "\n",
            "ON STEP : 3300  Accuracy : 0.7148\n",
            "\n",
            "\n",
            "ON STEP : 3400  Accuracy : 0.7104\n",
            "\n",
            "\n",
            "ON STEP : 3500  Accuracy : 0.7013\n",
            "\n",
            "\n",
            "ON STEP : 3600  Accuracy : 0.7195\n",
            "\n",
            "\n",
            "ON STEP : 3700  Accuracy : 0.7298\n",
            "\n",
            "\n",
            "ON STEP : 3800  Accuracy : 0.7231\n",
            "\n",
            "\n",
            "ON STEP : 3900  Accuracy : 0.7206\n",
            "\n",
            "\n",
            "ON STEP : 4000  Accuracy : 0.7151\n",
            "\n",
            "\n",
            "ON STEP : 4100  Accuracy : 0.7216\n",
            "\n",
            "\n",
            "ON STEP : 4200  Accuracy : 0.7356\n",
            "\n",
            "\n",
            "ON STEP : 4300  Accuracy : 0.7253\n",
            "\n",
            "\n",
            "ON STEP : 4400  Accuracy : 0.7375\n",
            "\n",
            "\n",
            "ON STEP : 4500  Accuracy : 0.717\n",
            "\n",
            "\n",
            "ON STEP : 4600  Accuracy : 0.721\n",
            "\n",
            "\n",
            "ON STEP : 4700  Accuracy : 0.7369\n",
            "\n",
            "\n",
            "ON STEP : 4800  Accuracy : 0.7321\n",
            "\n",
            "\n",
            "ON STEP : 4900  Accuracy : 0.7401\n",
            "\n",
            "\n"
          ]
        }
      ],
      "source": [
        "with tf.Session() as sess:\n",
        "    sess.run(vars_initializer)\n",
        "    accuracy=[]\n",
        "    steps_i=[]\n",
        "    for i in range(steps):\n",
        "        batch_x,batch_y = ch.next_batch(100)\n",
        "        sess.run(cnn_trainer,feed_dict = {x:batch_x, y_true:batch_y,dropout_hold_prob:0.5})\n",
        "        if i%100==0:\n",
        "            matches = tf.equal(tf.argmax(y_pred,1),tf.argmax(y_true,1))\n",
        "            acc = tf.reduce_mean(tf.cast(matches,tf.float32))\n",
        "            test_accuracy = sess.run(acc, feed_dict = {x:ch.test_images,y_true:ch.test_labels,dropout_hold_prob:1.0})\n",
        "            accuracy.append(test_accuracy)\n",
        "            steps_i.append(i)\n",
        "            print(\"ON STEP :\",i , \" Accuracy :\",test_accuracy)\n",
        "            print(\"\\n\")"
      ]
    },
    {
      "cell_type": "code",
      "execution_count": null,
      "metadata": {
        "id": "mDJdxxeHRlvd",
        "outputId": "48692ac7-6fb1-4684-8ba6-0b819de58589"
      },
      "outputs": [
        {
          "name": "stdout",
          "output_type": "stream",
          "text": [
            "Test Accuracy : 64.07\n"
          ]
        }
      ],
      "source": [
        "print(f\"Test Accuracy : {round(np.mean(accuracy)*100,2)}\")"
      ]
    },
    {
      "cell_type": "markdown",
      "metadata": {
        "id": "Lpirw6HLRlvd"
      },
      "source": [
        "# PHASE II: Train and Test CNN Model on CIFAR-10 Dataset"
      ]
    },
    {
      "cell_type": "markdown",
      "metadata": {
        "id": "u381enR6Rlvd"
      },
      "source": [
        "## ..."
      ]
    },
    {
      "cell_type": "markdown",
      "metadata": {
        "id": "ggtw14fRRlvd"
      },
      "source": [
        "### Results Visualization"
      ]
    },
    {
      "cell_type": "code",
      "execution_count": null,
      "metadata": {
        "id": "z5A9ejUXRlve",
        "outputId": "1249236b-bc5d-4e8e-8c4a-5f8ac7dc2234"
      },
      "outputs": [
        {
          "data": {
            "text/plain": [
              "Text(0, 0.5, 'Accuracy')"
            ]
          },
          "execution_count": 54,
          "metadata": {},
          "output_type": "execute_result"
        },
        {
          "data": {
            "image/png": "[encoded data removed]",
            "text/plain": [
              "<Figure size 432x288 with 1 Axes>"
            ]
          },
          "metadata": {
            "needs_background": "light"
          },
          "output_type": "display_data"
        }
      ],
      "source": [
        "from matplotlib import pyplot as plt\n",
        "plt.plot(steps_i,accuracy, label='train acc',color='g',)\n",
        "plt.xlabel(\"Steps\")\n",
        "plt.ylabel(\"Accuracy\")"
      ]
    },
    {
      "cell_type": "code",
      "execution_count": null,
      "metadata": {
        "id": "W4CDz0KjRlve"
      },
      "outputs": [],
      "source": [
        ""
      ]
    }
  ],
  "metadata": {
    "kernelspec": {
      "display_name": "Python 3",
      "language": "python",
      "name": "python3"
    },
    "language_info": {
      "codemirror_mode": {
        "name": "ipython",
        "version": 3
      },
      "file_extension": ".py",
      "mimetype": "text/x-python",
      "name": "python",
      "nbconvert_exporter": "python",
      "pygments_lexer": "ipython3",
      "version": "3.7.12"
    },
    "colab": {
      "name": "DL_TF_cnn_cifar_10_final_project -part5.ipynb",
      "provenance": []
    }
  },
  "nbformat": 4,
  "nbformat_minor": 0
}