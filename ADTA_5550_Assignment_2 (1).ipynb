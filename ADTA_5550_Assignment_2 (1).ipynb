{
  "nbformat": 4,
  "nbformat_minor": 0,
  "metadata": {
    "colab": {
      "name": "ADTA 5550 Assignment 2.ipynb",
      "provenance": []
    },
    "kernelspec": {
      "name": "python3",
      "display_name": "Python 3"
    },
    "language_info": {
      "name": "python"
    }
  },
  "cells": [
    {
      "cell_type": "markdown",
      "source": [
        "###Write TensorFlow code to provide the solutions to the following simple problems: "
      ],
      "metadata": {
        "id": "1H3lzTIhCxWm"
      }
    },
    {
      "cell_type": "code",
      "source": [
        "import tensorflow as tf\n",
        "import numpy as np"
      ],
      "metadata": {
        "id": "CI72H86ZDUYf"
      },
      "execution_count": 1,
      "outputs": []
    },
    {
      "cell_type": "markdown",
      "source": [
        "####1. Declare two constant tensors that have the values of 15 and 45. Add these two tensors and print out the results. "
      ],
      "metadata": {
        "id": "FVQy8AKsC0qN"
      }
    },
    {
      "cell_type": "code",
      "source": [
        "m = tf.constant([15])\n",
        "n = tf.constant([45])\n",
        "k = tf.math.add(m,n)\n",
        "print(k)"
      ],
      "metadata": {
        "colab": {
          "base_uri": "https://localhost:8080/"
        },
        "id": "LuifoA6TDTL1",
        "outputId": "dc27b959-fea3-4562-81b7-45f7bc5ab337"
      },
      "execution_count": 2,
      "outputs": [
        {
          "output_type": "stream",
          "name": "stdout",
          "text": [
            "tf.Tensor([60], shape=(1,), dtype=int32)\n"
          ]
        }
      ]
    },
    {
      "cell_type": "markdown",
      "source": [
        "#####2. Declare two variable tensors, a and b, that are initialized with scalar values of 2.75 and 8.5. Find their product and print out the result. \n"
      ],
      "metadata": {
        "id": "Mgg6z4u1C7KQ"
      }
    },
    {
      "cell_type": "code",
      "source": [
        "a = tf.Variable([2.75])\n",
        "b = tf.Variable([8.5])\n",
        "f = tf.math.multiply(a,b)\n",
        "print(f)"
      ],
      "metadata": {
        "colab": {
          "base_uri": "https://localhost:8080/"
        },
        "id": "X-TfnO9pDg9a",
        "outputId": "97086288-4afa-4f75-8c2d-36376361b3ee"
      },
      "execution_count": 3,
      "outputs": [
        {
          "output_type": "stream",
          "name": "stdout",
          "text": [
            "tf.Tensor([23.375], shape=(1,), dtype=float32)\n"
          ]
        }
      ]
    },
    {
      "cell_type": "markdown",
      "source": [
        "#####3. Create two placeholders: x and y - that are both scalars of 32-bit floats. Assign 5.25 to x and 12.6 to y, multiply them together, and print out the results. \n",
        " "
      ],
      "metadata": {
        "id": "lQqxTJENDCFQ"
      }
    },
    {
      "cell_type": "code",
      "source": [
        "import tensorflow.compat.v1 as tf\n",
        "\n",
        "tf.disable_v2_behavior() \n",
        "x = tf.placeholder(tf.float32)\n",
        "y = tf.placeholder(tf.float32)\n",
        "f = tf.math.multiply(x,y)\n",
        "with tf.Session() as sess:\n",
        "  print(sess.run([f], feed_dict = {x:[5.25] ,y:[12.6]}))\n"
      ],
      "metadata": {
        "colab": {
          "base_uri": "https://localhost:8080/"
        },
        "id": "dKtvrovpDv9F",
        "outputId": "93d70532-67f7-4587-fb12-617f695d55a8"
      },
      "execution_count": 9,
      "outputs": [
        {
          "output_type": "stream",
          "name": "stdout",
          "text": [
            "[array([66.15], dtype=float32)]\n"
          ]
        }
      ]
    },
    {
      "cell_type": "markdown",
      "source": [
        "#####4. Create one placeholder: z - that is an N-Dimensional array (N can be >= 1) that can have any shape (shape = None). Feed this vector [1, 3, 5, 7, 9] into z and multiply it by 3. Display the results. "
      ],
      "metadata": {
        "id": "bUjnZyvpDGJW"
      }
    },
    {
      "cell_type": "code",
      "source": [
        "import tensorflow.compat.v1 as tf\n",
        "\n",
        "tf.disable_v2_behavior()\n",
        "\n",
        "z = tf.placeholder(\"float\", None)\n",
        "y = z * 3\n",
        "\n",
        "with tf.Session() as session:\n",
        "    result = session.run(y, feed_dict={z: [1, 3, 5, 7,9]})\n",
        "    print(result)"
      ],
      "metadata": {
        "colab": {
          "base_uri": "https://localhost:8080/"
        },
        "id": "RFJ54IGPHwwx",
        "outputId": "10cbf302-8d64-4c2f-e961-9ff7eff75d47"
      },
      "execution_count": 17,
      "outputs": [
        {
          "output_type": "stream",
          "name": "stdout",
          "text": [
            "[ 3.  9. 15. 21. 27.]\n"
          ]
        }
      ]
    },
    {
      "cell_type": "markdown",
      "source": [
        "#####5. Create a constant tensor that is a matrix of the shape (8, 8). The matrix is initialized with all ones (1). Create a variable tensor that is also a matrix of the shape (8, 8) and initialized with random integer values between 0 and 99. Add these two tensors and display the results. "
      ],
      "metadata": {
        "id": "r1074luPDLhK"
      }
    },
    {
      "cell_type": "code",
      "source": [
        "sess = tf.Session()\n",
        "mat_constant = sess.run(tf.constant(1,shape = (8,8)))\n",
        "print(mat_constant,'\\n')\n",
        "mat_variable = sess.run(tf.random.uniform([8,8], minval =0, maxval=99, dtype = tf.int32))\n",
        "print(mat_variable,'\\n')\n",
        "Result = sess.run(tf.add(mat_constant,mat_variable))\n",
        "print(Result)\n",
        "sess.close()"
      ],
      "metadata": {
        "colab": {
          "base_uri": "https://localhost:8080/"
        },
        "id": "tEhFa39abgdA",
        "outputId": "fe0f245d-b0ec-4103-e07a-97b9bb055701"
      },
      "execution_count": 32,
      "outputs": [
        {
          "output_type": "stream",
          "name": "stdout",
          "text": [
            "[[1 1 1 1 1 1 1 1]\n",
            " [1 1 1 1 1 1 1 1]\n",
            " [1 1 1 1 1 1 1 1]\n",
            " [1 1 1 1 1 1 1 1]\n",
            " [1 1 1 1 1 1 1 1]\n",
            " [1 1 1 1 1 1 1 1]\n",
            " [1 1 1 1 1 1 1 1]\n",
            " [1 1 1 1 1 1 1 1]] \n",
            "\n",
            "[[12 98 46 30 86 70 38 48]\n",
            " [61 30 28 46 96 31 19 38]\n",
            " [47 95 96 72 62 31 59 73]\n",
            " [81 11 52 88 58 59 96 10]\n",
            " [69 47 34 25 28 96 97 65]\n",
            " [85 17 45 20 89 90 57  4]\n",
            " [12  6 85 27 35 47 48 25]\n",
            " [89 98 35 65  3 20 94 36]] \n",
            "\n",
            "[[13 99 47 31 87 71 39 49]\n",
            " [62 31 29 47 97 32 20 39]\n",
            " [48 96 97 73 63 32 60 74]\n",
            " [82 12 53 89 59 60 97 11]\n",
            " [70 48 35 26 29 97 98 66]\n",
            " [86 18 46 21 90 91 58  5]\n",
            " [13  7 86 28 36 48 49 26]\n",
            " [90 99 36 66  4 21 95 37]]\n"
          ]
        }
      ]
    },
    {
      "cell_type": "code",
      "source": [
        ""
      ],
      "metadata": {
        "id": "qcsNgeHgPmz-"
      },
      "execution_count": 13,
      "outputs": []
    }
  ]
}